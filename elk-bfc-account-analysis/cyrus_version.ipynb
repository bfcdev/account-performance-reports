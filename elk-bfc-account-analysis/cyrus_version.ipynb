{
 "cells": [
  {
   "cell_type": "code",
   "execution_count": null,
   "metadata": {},
   "outputs": [],
   "source": [
    "import plotly.express as px\n",
    "import pandas as pd\n",
    "# import vectorbtpro as vbt\n",
    "import numpy as np\n",
    "from vectorbtpro import * "
   ]
  },
  {
   "cell_type": "code",
   "execution_count": 3,
   "metadata": {},
   "outputs": [],
   "source": [
    "data = vbt.BinanceData.load('price_data_1m.pkl')\n",
    "btc_data = data.get(symbol=\"BTCUSDT\")\n",
    "eth_data = data.get(symbol=\"ETHUSDT\")\n",
    "eth_data.index = pd.to_datetime(eth_data.index)\n",
    "\n",
    "filename = 'astra.xlsx'\n",
    "transactions = pd.read_excel(filename, sheet_name='Sheet1', index_col='datetime', parse_dates=True)\n",
    "transactions.index = pd.to_datetime(transactions.index, format='ISO8601')\n",
    "# transactions.index = transactions.index.round(\"min\")\n",
    "transactions = transactions.sort_index()"
   ]
  },
  {
   "cell_type": "code",
   "execution_count": 88,
   "metadata": {},
   "outputs": [],
   "source": [
    "start = '2024-01-31'\n",
    "end = '2024-02-08'\n",
    "\n",
    "eth_data = eth_data.loc[start:end]\n",
    "transactions = transactions.loc[start: end]\n"
   ]
  },
  {
   "cell_type": "code",
   "execution_count": 89,
   "metadata": {},
   "outputs": [
    {
     "name": "stdout",
     "output_type": "stream",
     "text": [
      "Total Trades 6\n",
      "Total Funding Fee 0.0\n",
      "Fee added to each trade 0.0\n",
      "                                  id acccount_id              strategy  \\\n",
      "datetime                                                                 \n",
      "2024-02-01 14:18:42.223000+00:00   1       Astra     Yosemite ETH Fast   \n",
      "2024-02-01 14:18:45.439000+00:00   2       Astra  Yosemite ETH Fast V3   \n",
      "2024-02-01 14:35:54.289000+00:00   3       Astra     Yosemite ETH Fast   \n",
      "2024-02-01 14:36:40.475000+00:00   4       Astra  Yosemite ETH Fast V3   \n",
      "2024-02-01 17:20:26.948000+00:00   5       Astra     Yosemite ETH Slow   \n",
      "2024-02-01 17:27:57.278000+00:00   6       Astra     Yosemite ETH Slow   \n",
      "\n",
      "                                                           position_id  \\\n",
      "datetime                                                                 \n",
      "2024-02-01 14:18:42.223000+00:00  f96491f9-b38c-4604-9aea-33c559ffcbcb   \n",
      "2024-02-01 14:18:45.439000+00:00  0fe822f3-2c0b-4371-80e7-3ac24fd0a6ae   \n",
      "2024-02-01 14:35:54.289000+00:00  f96491f9-b38c-4604-9aea-33c559ffcbcb   \n",
      "2024-02-01 14:36:40.475000+00:00  0fe822f3-2c0b-4371-80e7-3ac24fd0a6ae   \n",
      "2024-02-01 17:20:26.948000+00:00  0e959ad3-ff4c-442a-b9cb-727954cc65cc   \n",
      "2024-02-01 17:27:57.278000+00:00  0e959ad3-ff4c-442a-b9cb-727954cc65cc   \n",
      "\n",
      "                                   symbol   direction  quantity    price  \\\n",
      "datetime                                                                   \n",
      "2024-02-01 14:18:42.223000+00:00  ETHUSDT   open-long    28.026  2283.45   \n",
      "2024-02-01 14:18:45.439000+00:00  ETHUSDT   open-long    35.037  2283.17   \n",
      "2024-02-01 14:35:54.289000+00:00  ETHUSDT  close-long    28.026  2291.09   \n",
      "2024-02-01 14:36:40.475000+00:00  ETHUSDT  close-long    35.037  2293.58   \n",
      "2024-02-01 17:20:26.948000+00:00  ETHUSDT   open-long    13.888  2303.33   \n",
      "2024-02-01 17:27:57.278000+00:00  ETHUSDT  close-long    13.888  2310.84   \n",
      "\n",
      "                                       fees  trade_direction  trade_quantity  \\\n",
      "datetime                                                                       \n",
      "2024-02-01 14:18:42.223000+00:00  31.998040                1          28.026   \n",
      "2024-02-01 14:18:45.439000+00:00  39.997714                1          35.037   \n",
      "2024-02-01 14:35:54.289000+00:00  32.105004               -1         -28.026   \n",
      "2024-02-01 14:36:40.475000+00:00  40.180030               -1         -35.037   \n",
      "2024-02-01 17:20:26.948000+00:00  15.994324                1          13.888   \n",
      "2024-02-01 17:27:57.278000+00:00  16.046457               -1         -13.888   \n",
      "\n",
      "                                   adj fees  \n",
      "datetime                                     \n",
      "2024-02-01 14:18:42.223000+00:00  31.998040  \n",
      "2024-02-01 14:18:45.439000+00:00  39.997714  \n",
      "2024-02-01 14:35:54.289000+00:00  32.105004  \n",
      "2024-02-01 14:36:40.475000+00:00  40.180030  \n",
      "2024-02-01 17:20:26.948000+00:00  15.994324  \n",
      "2024-02-01 17:27:57.278000+00:00  16.046457  \n"
     ]
    }
   ],
   "source": [
    "deposits = transactions[transactions[\"direction\"] == \"allocation\"].copy()\n",
    "\n",
    "funding_fees = transactions[transactions[\"direction\"] == \"funding\"].copy()\n",
    "total_fees = funding_fees['fees'].sum()\n",
    "\n",
    "trades = transactions[(transactions[\"direction\"] !=  \"allocation\") & (transactions[\"direction\"] != \"funding\")].copy()\n",
    "trades['trade_direction'] = trades.apply(lambda x: -1 if (x['direction'] == 'open-short' or x['direction'] == 'close-long') else 1, axis=1)\n",
    "trades['trade_quantity'] = trades['trade_direction'] * trades['quantity']\n",
    "\n",
    "\n",
    "number_of_trades = len(trades)\n",
    "avg_fee_added = total_fees / number_of_trades\n",
    "trades['adj fees'] = trades['fees'] + avg_fee_added\n",
    "\n",
    "print(f\"Total Trades {number_of_trades}\")\n",
    "print(f\"Total Funding Fee {total_fees}\")\n",
    "print(f\"Fee added to each trade {avg_fee_added}\")\n",
    "\n",
    "print(trades)\n"
   ]
  },
  {
   "cell_type": "code",
   "execution_count": 104,
   "metadata": {},
   "outputs": [
    {
     "name": "stdout",
     "output_type": "stream",
     "text": [
      "                              Open     High     Low    Close    Volume  \\\n",
      "Open time                                                                \n",
      "2024-01-31 23:43:00+00:00  2285.99  2285.99  2285.2  2285.21  126.6518   \n",
      "\n",
      "                            Quote volume  Trade count  Taker base volume  \\\n",
      "Open time                                                                  \n",
      "2024-01-31 23:43:00+00:00  289453.756728          268            65.2596   \n",
      "\n",
      "                           Taker quote volume  deposits  \n",
      "Open time                                                \n",
      "2024-01-31 23:43:00+00:00       149145.776184    100000  \n"
     ]
    }
   ],
   "source": [
    "deposits.index = deposits.index.round(\"min\")\n",
    "eth_data['deposits'] = 0\n",
    "\n",
    "for index, row in deposits.iterrows():\n",
    "    eth_data.at[index, 'deposits'] += row['quantity']\n",
    "\n",
    "\n",
    "depos = eth_data[eth_data['deposits'] != 0]\n",
    "print(depos)\n",
    "\n",
    "# print(eth_data)"
   ]
  },
  {
   "cell_type": "code",
   "execution_count": 93,
   "metadata": {},
   "outputs": [
    {
     "name": "stdout",
     "output_type": "stream",
     "text": [
      "True\n"
     ]
    }
   ],
   "source": [
    "\n",
    "# Step 1: Identify duplicate timestamps\n",
    "duplicates = trades.index.duplicated(keep='first')\n",
    "\n",
    "# Step 2: Adjust duplicates by adding 1 millisecond to each subsequent duplicate\n",
    "adjustment = pd.to_timedelta(1, unit='ms')  # 1 millisecond\n",
    "for i in range(len(duplicates)):\n",
    "    if duplicates[i]:  # If this is a duplicate\n",
    "        # Add an adjustment based on how many previous duplicates there have been\n",
    "        trades.index.values[i] += adjustment\n",
    "\n",
    "# Verify if the operation was successful\n",
    "print(trades.index.is_unique)  # This should now print 'True'"
   ]
  },
  {
   "cell_type": "code",
   "execution_count": 94,
   "metadata": {},
   "outputs": [],
   "source": [
    "import datetime\n",
    "import pytz\n",
    "\n",
    "fake_data = eth_data.copy()\n",
    "\n",
    "# Convert the datetime to match the DataFrame's index precision\n",
    "deposit1 = datetime.datetime(year=2024, month=1, day=31, hour=0, minute=1, second=0)\n",
    "deposit2 = datetime.datetime(year=2024, month=1, day=31, hour=0, minute=4, second=0)\n",
    "\n",
    "# Now use the corrected datetime index to set the value\n",
    "fake_data['deposits'] = 0\n",
    "fake_data.at[deposit1.replace(tzinfo=pytz.utc), \"deposits\"] = 100\n",
    "fake_data.at[deposit2.replace(tzinfo=pytz.utc), \"deposits\"] = 100\n",
    "\n",
    "# Verify the change\n",
    "fake_data\n",
    "\n",
    "fake_trades = {\n",
    "    'datetime' : [\n",
    "        datetime.datetime(year=2024, month=1, day=31, hour=0, minute=2, second=0).replace(tzinfo=pytz.utc), \n",
    "        datetime.datetime(year=2024, month=1, day=31, hour=0, minute=3, second=0).replace(tzinfo=pytz.utc),\n",
    "        datetime.datetime(year=2024, month=1, day=31, hour=0, minute=5, second=0).replace(tzinfo=pytz.utc),\n",
    "        datetime.datetime(year=2024, month=1, day=31, hour=0, minute=6, second=0).replace(tzinfo=pytz.utc)\n",
    "    ],\n",
    "    'size': [1, -1, 1, -1],\n",
    "    # 'price': [1000, 2000, 1000, 2000],\n",
    "    'fees': [0, 0, 0, 0]\n",
    "}\n",
    "\n",
    "fake_trades_df = pd.DataFrame(fake_trades)\n",
    "fake_trades_df['datetime'] = pd.to_datetime(fake_trades_df['datetime'])\n",
    "fake_trades_df = fake_trades_df.set_index(\"datetime\")\n",
    "\n",
    "fake_data = fake_data.head(10)\n",
    "\n",
    "fake_data['Close'] = [100, 100, 100, 101, 100, 100, 101, 102, 103, 102]\n",
    "# print(fake_data[['Close', 'deposits']])\n",
    "# fake_trades_df"
   ]
  },
  {
   "cell_type": "code",
   "execution_count": 102,
   "metadata": {},
   "outputs": [],
   "source": [
    "eth_data['deposits'] = 0"
   ]
  },
  {
   "cell_type": "code",
   "execution_count": 106,
   "metadata": {},
   "outputs": [
    {
     "name": "stdout",
     "output_type": "stream",
     "text": [
      "Start                         2024-01-31 00:00:00+00:00\n",
      "End                           2024-02-02 23:59:00+00:00\n",
      "Period                                  3 days 00:06:00\n",
      "Start Value                                         1.0\n",
      "Min Value                                           1.0\n",
      "Max Value                        13884521315345745920.0\n",
      "End Value                        13884521315345747968.0\n",
      "Cash Deposits                    13884521315345747968.0\n",
      "Total Return [%]                                    0.0\n",
      "Benchmark Return [%]                           -1.60627\n",
      "Total Time Exposure [%]                        0.670365\n",
      "Max Gross Exposure [%]                       144.179415\n",
      "Max Drawdown [%]                               0.265876\n",
      "Max Drawdown Duration                   1 days 09:21:00\n",
      "Total Orders                                          6\n",
      "Total Fees Paid                              176.321568\n",
      "Total Trades                                          3\n",
      "Win Rate [%]                                      100.0\n",
      "Best Trade [%]                                 0.350245\n",
      "Worst Trade [%]                                0.225887\n",
      "Avg Winning Trade [%]                           0.27246\n",
      "Avg Losing Trade [%]                                NaN\n",
      "Avg Winning Trade Duration              0 days 00:16:00\n",
      "Avg Losing Trade Duration                           NaT\n",
      "Profit Factor                                       inf\n",
      "Expectancy                                   168.943707\n",
      "Sharpe Ratio                                   8.403949\n",
      "Calmar Ratio                                 319.624817\n",
      "Omega Ratio                                     1.65064\n",
      "Sortino Ratio                                 23.172804\n",
      "dtype: object\n"
     ]
    }
   ],
   "source": [
    "\n",
    "pf = vbt.Portfolio.from_orders(\n",
    "    close = eth_data.Close, # Note, here we are using the minutely data for ETH\n",
    "    size = trades['trade_quantity'],  # Here we are only looking at the trades dataframe\n",
    "    price = trades['price'],\n",
    "    size_type = 'amount',\n",
    "    fixed_fees = trades['fees'],\n",
    "    init_cash = 1,\n",
    "    leverage=4,\n",
    "    leverage_mode=vbt.pf_enums.LeverageMode.Eager,\n",
    "    cash_deposits=eth_data['deposits'],\n",
    "    cash_deposits_as_input = True,\n",
    "    freq = '1T',\n",
    ")\n",
    "# pf = vbt.Portfolio.from_orders(\n",
    "#     close = eth_trimmed.Close, # Note, here we are using the minutely data for ETH\n",
    "#     size = fake_trades_df['size'],  # Here we are only looking at the trades dataframe\n",
    "#     # price = fake_trades_df['price'],\n",
    "#     size_type = 'amount',\n",
    "#     fixed_fees = fake_trades_df['fees'],\n",
    "#     init_cash = 0,\n",
    "#     # leverage=4,\n",
    "#     # leverage_mode=vbt.pf_enums.LeverageMode.Eager,\n",
    "#     cash_deposits=eth_trimmed['deposits'],\n",
    "#     cash_deposits_as_input = False,\n",
    "#     freq = '1T',\n",
    "# )\n",
    "\n",
    "# print(pf.cash.to_markdown())\n",
    "pf.equity_curve\n",
    "pf.assets.to_csv(\"assets.csv\")\n",
    "pf.cash.to_csv(\"cash.csv\")\n",
    "eth_data['deposits'].to_csv(\"deposts.csv\")\n",
    "print(pf.stats())\n",
    "pf.plot(title=f\"yay\").show()"
   ]
  },
  {
   "cell_type": "code",
   "execution_count": 100,
   "metadata": {},
   "outputs": [
    {
     "name": "stdout",
     "output_type": "stream",
     "text": [
      "                              Open     High      Low    Close    Volume  \\\n",
      "Open time                                                                 \n",
      "2024-02-02 23:55:00+00:00  2308.18  2308.53  2308.18  2308.53   34.1138   \n",
      "2024-02-02 23:56:00+00:00  2308.52  2308.53  2307.99  2307.99  207.4119   \n",
      "2024-02-02 23:57:00+00:00  2308.00  2308.22  2307.99  2308.21   53.8197   \n",
      "2024-02-02 23:58:00+00:00  2308.21  2309.00  2308.21  2309.00  121.7513   \n",
      "2024-02-02 23:59:00+00:00  2308.99  2309.43  2308.99  2309.06   50.2101   \n",
      "\n",
      "                            Quote volume  Trade count  Taker base volume  \\\n",
      "Open time                                                                  \n",
      "2024-02-02 23:55:00+00:00   78745.841418          189            29.8837   \n",
      "2024-02-02 23:56:00+00:00  478760.120990          278            47.1409   \n",
      "2024-02-02 23:57:00+00:00  124216.998583          141            33.1835   \n",
      "2024-02-02 23:58:00+00:00  281087.118042          270            74.3840   \n",
      "2024-02-02 23:59:00+00:00  115945.398103          265            37.1535   \n",
      "\n",
      "                           Taker quote volume  deposits  \n",
      "Open time                                                \n",
      "2024-02-02 23:55:00+00:00        68980.949310         0  \n",
      "2024-02-02 23:56:00+00:00       108825.668880         0  \n",
      "2024-02-02 23:57:00+00:00        76588.505787         0  \n",
      "2024-02-02 23:58:00+00:00       171721.634143         0  \n",
      "2024-02-02 23:59:00+00:00        85794.390860         0  \n"
     ]
    }
   ],
   "source": [
    "eth_data[eth_data['deposits'] != 0]\n",
    "# print(eth_data['deposits'].to_markdown())\n",
    "print(eth_data.tail())"
   ]
  }
 ],
 "metadata": {
  "kernelspec": {
   "display_name": "pm",
   "language": "python",
   "name": "python3"
  },
  "language_info": {
   "codemirror_mode": {
    "name": "ipython",
    "version": 3
   },
   "file_extension": ".py",
   "mimetype": "text/x-python",
   "name": "python",
   "nbconvert_exporter": "python",
   "pygments_lexer": "ipython3",
   "version": "3.10.12"
  }
 },
 "nbformat": 4,
 "nbformat_minor": 2
}
